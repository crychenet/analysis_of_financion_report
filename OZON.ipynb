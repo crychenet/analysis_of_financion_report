{
  "nbformat": 4,
  "nbformat_minor": 0,
  "metadata": {
    "colab": {
      "provenance": [],
      "authorship_tag": "ABX9TyOrS143qxc8o6o6xbJ3mdWF",
      "include_colab_link": true
    },
    "kernelspec": {
      "name": "python3",
      "display_name": "Python 3"
    },
    "language_info": {
      "name": "python"
    }
  },
  "cells": [
    {
      "cell_type": "markdown",
      "metadata": {
        "id": "view-in-github",
        "colab_type": "text"
      },
      "source": [
        "<a href=\"https://colab.research.google.com/github/crychenet/analysis_of_financion_report_WB/blob/master/OZON.ipynb\" target=\"_parent\"><img src=\"https://colab.research.google.com/assets/colab-badge.svg\" alt=\"Open In Colab\"/></a>"
      ]
    },
    {
      "cell_type": "code",
      "execution_count": 59,
      "metadata": {
        "colab": {
          "base_uri": "https://localhost:8080/"
        },
        "id": "uLOo6hKjVKKM",
        "outputId": "124e4db6-4f94-4922-db88-c122f33fa59e"
      },
      "outputs": [
        {
          "output_type": "stream",
          "name": "stderr",
          "text": [
            "<ipython-input-59-ba15dd5ca146>:14: FutureWarning: The default value of numeric_only in DataFrameGroupBy.sum is deprecated. In a future version, numeric_only will default to False. Either specify numeric_only or select only columns which should be valid for the function.\n",
            "  article_report = article_report.groupby('Артикул').sum()\n"
          ]
        }
      ],
      "source": [
        "import pandas as pd\n",
        "import numpy as np\n",
        "from copy import deepcopy\n",
        "\n",
        "df = pd.read_excel(\"/content/Финансовый отчет по OZON 1_15 октября.xlsx\")\n",
        "df_cost_of_goods = pd.read_excel(\"/content/2023.10.09 Отчет по скидкам_111023.xlsx\",\n",
        "                                 skiprows=2)\n",
        "article_report = deepcopy(df)\n",
        "article_report.drop(columns=['SKU', 'Итого', 'Количество', 'Сборка заказа', 'Название товара или услуги', 'Склад отгрузки',\n",
        "                   'Дата принятия заказа в обработку или оказания услуги',\n",
        "                   'Номер отправления или идентификатор услуги', 'Дата начисления',\n",
        "                   'Обработка отправления (Drop-off/Pick-up) (разбивается по товарам пропорционально количеству в отправлении)',\n",
        "                   'Магистраль', 'Обратная магистраль', 'Индекс локализации', 'Ставка комиссии'], inplace=True)\n",
        "article_report = article_report.groupby('Артикул').sum()\n"
      ]
    },
    {
      "cell_type": "code",
      "source": [
        "article_report.columns"
      ],
      "metadata": {
        "colab": {
          "base_uri": "https://localhost:8080/"
        },
        "id": "HdH3IkVbS2xw",
        "outputId": "86d98045-b8bd-43d4-8a65-52fe160a9f17"
      },
      "execution_count": 41,
      "outputs": [
        {
          "output_type": "execute_result",
          "data": {
            "text/plain": [
              "Index(['За продажу или возврат до вычета комиссий и услуг', 'Ставка комиссии',\n",
              "       'Комиссия за продажу',\n",
              "       'Последняя миля (разбивается по товарам пропорционально доле цены товара в сумме отправления)',\n",
              "       'Обработка возврата',\n",
              "       'Обработка отмененного или невостребованного товара (разбивается по товарам в отправлении в одинаковой пропорции)',\n",
              "       'Обработка невыкупленного товара', 'Логистика', 'Обратная логистика'],\n",
              "      dtype='object')"
            ]
          },
          "metadata": {},
          "execution_count": 41
        }
      ]
    },
    {
      "cell_type": "markdown",
      "source": [],
      "metadata": {
        "id": "E3kI10oAVaN3"
      }
    },
    {
      "cell_type": "code",
      "source": [
        "article_report['Итоговая логистика'] = article_report['Последняя миля (разбивается по товарам пропорционально доле цены товара в сумме отправления)'] + article_report['Обработка возврата'] + article_report['Обработка отмененного или невостребованного товара (разбивается по товарам в отправлении в одинаковой пропорции)'] + article_report['Обработка невыкупленного товара'] + article_report['Логистика'] + article_report['Обратная логистика']\n"
      ],
      "metadata": {
        "id": "MtHndEfUUdqu"
      },
      "execution_count": 62,
      "outputs": []
    },
    {
      "cell_type": "code",
      "source": [
        "article_report.reset_index(drop=False, inplace=True)"
      ],
      "metadata": {
        "id": "VuturNBJWwtg"
      },
      "execution_count": 69,
      "outputs": []
    },
    {
      "cell_type": "code",
      "source": [
        "def get_number_of_sales(column):     # У number_of_sales и number_of_returns свои критерии!\n",
        "    number_of_sales = df[(df['Артикул'] == column) & (\n",
        "            df['За продажу или возврат до вычета комиссий и услуг'] > 0)]['Количество'].sum()\n",
        "    return number_of_sales\n",
        "\n",
        "def get_number_of_returns(column): # У number_of_sales и number_of_returns свои критерии!\n",
        "    number_of_returns = df[\n",
        "        (df['Артикул'] == column) & (df['За продажу или возврат до вычета комиссий и услуг'] < 0)]['Количество'].sum()\n",
        "    return number_of_returns\n",
        "\n",
        "article_report['Кол-во продаж'] = article_report['Артикул'].apply(get_number_of_sales)\n",
        "article_report['Кол-во возвратов'] = article_report['Артикул'].apply(get_number_of_returns)"
      ],
      "metadata": {
        "id": "oiIjesnOW2v-"
      },
      "execution_count": 72,
      "outputs": []
    },
    {
      "cell_type": "code",
      "source": [
        "article_report.to_excel('article_report.xlsx')"
      ],
      "metadata": {
        "id": "2jDRQvMXaDRG"
      },
      "execution_count": 94,
      "outputs": []
    },
    {
      "cell_type": "code",
      "source": [
        "article_report['Артикул-3'] = article_report['Артикул'].apply(lambda x: x[:-3])\n",
        "article_report['Артикул-6'] = article_report['Артикул'].apply(lambda x: x[:-6])\n"
      ],
      "metadata": {
        "id": "f3SvTtctd-v1"
      },
      "execution_count": 87,
      "outputs": []
    },
    {
      "cell_type": "code",
      "source": [
        "article_report = pd.merge(article_report,df_cost_of_goods[['Артикул 1С', 'Настоящий СЕБЕК', 'КОЛЛЕКЦИЯ!!!', 'текущая РРЦ']], left_on='Артикул-3', right_on='Артикул 1С', how='left')"
      ],
      "metadata": {
        "id": "fCx0hl2Eeo0f"
      },
      "execution_count": 90,
      "outputs": []
    }
  ]
}